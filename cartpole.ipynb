{
  "nbformat": 4,
  "nbformat_minor": 0,
  "metadata": {
    "colab": {
      "provenance": []
    },
    "kernelspec": {
      "name": "python3",
      "display_name": "Python 3"
    },
    "language_info": {
      "name": "python"
    }
  },
  "cells": [
    {
      "cell_type": "markdown",
      "source": [
        "Contained within this notebook is a sample implementation and demo of the proposed **Fuzzy Conservative Q-Learning** procedure. The code is not necessarily optimal or efficient with respect to performance, but was more or less written for interpretability. Some functions that may be difficult to follow, such as ECM, actually should have a one-to-one correspondence with the original paper's notation (in the case of ECM, that would be the dynamic evolving neuro fuzzy system called DENFIS). "
      ],
      "metadata": {
        "id": "Vku-98nBJI_j"
      }
    },
    {
      "cell_type": "code",
      "source": [
        "# the following can be installed without pip install\n",
        "\n",
        "import os\n",
        "import sys\n",
        "import gym\n",
        "import time\n",
        "import torch\n",
        "import random\n",
        "import warnings\n",
        "import numpy as np\n",
        "import pandas as pd\n",
        "import torch.nn as nn\n",
        "import matplotlib.pyplot as plt\n",
        "\n",
        "from torch import optim\n",
        "from datetime import datetime\n",
        "from torch.utils.data import Dataset\n",
        "from torch.utils.data import DataLoader\n",
        "from torch.nn.parameter import Parameter\n",
        "from scipy.spatial.distance import minkowski  # for Evolving Clustering Method (ECM)\n",
        "from sklearn.metrics import mean_squared_error  # for neuro-fuzzy network core functionality\n",
        "from torch.utils.tensorboard import SummaryWriter\n",
        "from sklearn.model_selection import train_test_split"
      ],
      "metadata": {
        "id": "v8LlmhnRFf37"
      },
      "execution_count": null,
      "outputs": []
    },
    {
      "cell_type": "code",
      "source": [
        "warnings.filterwarnings(\"ignore\", category=np.VisibleDeprecationWarning)"
      ],
      "metadata": {
        "id": "zRH_hnjBRhWS"
      },
      "execution_count": null,
      "outputs": []
    },
    {
      "cell_type": "markdown",
      "source": [
        "There are a few libraries we need to pip install."
      ],
      "metadata": {
        "id": "U3Yo7ZspYdi1"
      }
    },
    {
      "cell_type": "code",
      "source": [
        "!pip install gym pyvirtualdisplay > /dev/null 2>&1\n",
        "!apt-get install -y xvfb python-opengl ffmpeg > /dev/null 2>&1"
      ],
      "metadata": {
        "id": "iVR8__KsWFG8"
      },
      "execution_count": null,
      "outputs": []
    },
    {
      "cell_type": "code",
      "source": [
        "# we need to pip install d3rlpy (deep reinforcement learning) library\n",
        "\n",
        "!pip install d3rlpy"
      ],
      "metadata": {
        "colab": {
          "base_uri": "https://localhost:8080/"
        },
        "id": "FfQpTbo3FlsJ",
        "outputId": "766bb096-351d-4324-b03f-32cf9a18ca65"
      },
      "execution_count": null,
      "outputs": [
        {
          "output_type": "stream",
          "name": "stdout",
          "text": [
            "Looking in indexes: https://pypi.org/simple, https://us-python.pkg.dev/colab-wheels/public/simple/\n",
            "Collecting d3rlpy\n",
            "  Downloading d3rlpy-1.1.1-cp37-cp37m-manylinux1_x86_64.whl (1.2 MB)\n",
            "\u001b[K     |████████████████████████████████| 1.2 MB 13.0 MB/s \n",
            "\u001b[?25hRequirement already satisfied: typing-extensions in /usr/local/lib/python3.7/dist-packages (from d3rlpy) (4.1.1)\n",
            "Requirement already satisfied: gym in /usr/local/lib/python3.7/dist-packages (from d3rlpy) (0.25.2)\n",
            "Requirement already satisfied: h5py in /usr/local/lib/python3.7/dist-packages (from d3rlpy) (3.1.0)\n",
            "Collecting colorama\n",
            "  Downloading colorama-0.4.5-py2.py3-none-any.whl (16 kB)\n",
            "Requirement already satisfied: torch in /usr/local/lib/python3.7/dist-packages (from d3rlpy) (1.12.1+cu113)\n",
            "Requirement already satisfied: scikit-learn in /usr/local/lib/python3.7/dist-packages (from d3rlpy) (1.0.2)\n",
            "Collecting tensorboardX\n",
            "  Downloading tensorboardX-2.5.1-py2.py3-none-any.whl (125 kB)\n",
            "\u001b[K     |████████████████████████████████| 125 kB 49.7 MB/s \n",
            "\u001b[?25hRequirement already satisfied: scipy in /usr/local/lib/python3.7/dist-packages (from d3rlpy) (1.7.3)\n",
            "Collecting structlog\n",
            "  Downloading structlog-22.1.0-py3-none-any.whl (58 kB)\n",
            "\u001b[K     |████████████████████████████████| 58 kB 6.2 MB/s \n",
            "\u001b[?25hRequirement already satisfied: click in /usr/local/lib/python3.7/dist-packages (from d3rlpy) (7.1.2)\n",
            "Requirement already satisfied: tqdm in /usr/local/lib/python3.7/dist-packages (from d3rlpy) (4.64.1)\n",
            "Requirement already satisfied: numpy>=1.18.0 in /usr/local/lib/python3.7/dist-packages (from gym->d3rlpy) (1.21.6)\n",
            "Requirement already satisfied: importlib-metadata>=4.8.0 in /usr/local/lib/python3.7/dist-packages (from gym->d3rlpy) (4.13.0)\n",
            "Requirement already satisfied: gym-notices>=0.0.4 in /usr/local/lib/python3.7/dist-packages (from gym->d3rlpy) (0.0.8)\n",
            "Requirement already satisfied: cloudpickle>=1.2.0 in /usr/local/lib/python3.7/dist-packages (from gym->d3rlpy) (1.5.0)\n",
            "Requirement already satisfied: zipp>=0.5 in /usr/local/lib/python3.7/dist-packages (from importlib-metadata>=4.8.0->gym->d3rlpy) (3.9.0)\n",
            "Requirement already satisfied: cached-property in /usr/local/lib/python3.7/dist-packages (from h5py->d3rlpy) (1.5.2)\n",
            "Requirement already satisfied: threadpoolctl>=2.0.0 in /usr/local/lib/python3.7/dist-packages (from scikit-learn->d3rlpy) (3.1.0)\n",
            "Requirement already satisfied: joblib>=0.11 in /usr/local/lib/python3.7/dist-packages (from scikit-learn->d3rlpy) (1.2.0)\n",
            "Requirement already satisfied: protobuf<=3.20.1,>=3.8.0 in /usr/local/lib/python3.7/dist-packages (from tensorboardX->d3rlpy) (3.17.3)\n",
            "Requirement already satisfied: six>=1.9 in /usr/local/lib/python3.7/dist-packages (from protobuf<=3.20.1,>=3.8.0->tensorboardX->d3rlpy) (1.15.0)\n",
            "Installing collected packages: tensorboardX, structlog, colorama, d3rlpy\n",
            "Successfully installed colorama-0.4.5 d3rlpy-1.1.1 structlog-22.1.0 tensorboardX-2.5.1\n"
          ]
        }
      ]
    },
    {
      "cell_type": "code",
      "source": [
        "from d3rlpy.datasets import get_cartpole"
      ],
      "metadata": {
        "id": "E1qlakPRNsfJ"
      },
      "execution_count": null,
      "outputs": []
    },
    {
      "cell_type": "markdown",
      "source": [
        "The first algorithm we need to define is **Categorical Learning Induced Partitioning (CLIP)**. CLIP is used to generate the Gaussian membership functions that describe fuzzy sets. By running CLIP over the entire training data, we will be able to create a global language (i.e. linguistic terms) for interpretation."
      ],
      "metadata": {
        "id": "YoH38xTfYqLL"
      }
    },
    {
      "cell_type": "code",
      "source": [
        "def gaussian(x, center, sigma):\n",
        "    return np.exp(-1.0 * (np.power(x - center, 2) / np.power(sigma, 2)))\n",
        "\n",
        "def R(sigma_1, sigma_2):\n",
        "    # regulator function\n",
        "    return (1/2) * (sigma_1 + sigma_2)\n",
        "\n",
        "def CLIP(X, mins, maxes, terms=[], eps=0.2, kappa=0.6, theta=1e-8):\n",
        "    # theta is a parameter I add to accomodate for the instance in which an observation has values that are the minimum/maximum\n",
        "    # otherwise, when determining the Gaussian membership, a division by zero will occur\n",
        "    # it essentially acts as an error tolerance\n",
        "    antecedents = terms\n",
        "    min_values_per_feature_in_X = mins\n",
        "    max_values_per_feature_in_X = maxes\n",
        "    for idx, x in enumerate(X):\n",
        "        if not terms:\n",
        "            # no fuzzy clusters yet, create the first fuzzy cluster\n",
        "            for p in range(len(x)):\n",
        "                c_1p = x[p]\n",
        "                min_p = min_values_per_feature_in_X[p]\n",
        "                max_p = max_values_per_feature_in_X[p]\n",
        "                left_width = np.sqrt(-1.0 * (np.power((min_p - x[p]) + theta, 2) / np.log(eps)))\n",
        "                right_width = np.sqrt(-1.0 * (np.power((max_p - x[p]) + theta, 2) / np.log(eps)))\n",
        "                sigma_1p = R(left_width, right_width)\n",
        "                terms.append([{'center': c_1p, 'sigma': sigma_1p, 'support':1}])\n",
        "        else:\n",
        "            # calculate the similarity between the input and existing fuzzy clusters\n",
        "            for p in range(len(x)):\n",
        "                SM_jps = []\n",
        "                for j, A_jp in enumerate(terms[p]):\n",
        "                    SM_jp = gaussian(x[p], A_jp['center'], A_jp['sigma'])\n",
        "                    SM_jps.append(SM_jp)\n",
        "                j_star_p = np.argmax(SM_jps)\n",
        "\n",
        "                if np.max(SM_jps) > kappa:\n",
        "                    # the best matched cluster is deemed as being able to give satisfactory description of the presented value\n",
        "                    A_j_star_p = terms[p][j_star_p]\n",
        "                    A_j_star_p['support'] += 1\n",
        "                else:\n",
        "                    # a new cluster is created in the input dimension based on the presented value\n",
        "                    jL_p = None\n",
        "                    jR_p = None\n",
        "                    jL_p_differences = []\n",
        "                    jR_p_differences = []\n",
        "                    for j, A_jp in enumerate(terms[p]):\n",
        "                        c_jp = A_jp['center']\n",
        "                        if c_jp >= x[p]:\n",
        "                            continue  # the newly created cluster has no immediate left neighbor\n",
        "                        else:\n",
        "                            jL_p_differences.append(np.abs(c_jp - x[p]))\n",
        "                    try:\n",
        "                        jL_p = np.argmin(jL_p_differences)\n",
        "                    except ValueError:\n",
        "                        jL_p = None\n",
        "\n",
        "                    for j, A_jp in enumerate(terms[p]):\n",
        "                        c_jp = A_jp['center']\n",
        "                        if c_jp <= x[p]:\n",
        "                            continue  # the newly created cluster has no immediate right neighbor\n",
        "                        else:\n",
        "                            jR_p_differences.append(np.abs(c_jp - x[p]))\n",
        "                    try:\n",
        "                        jR_p = np.argmin(jR_p_differences)\n",
        "                    except ValueError:\n",
        "                        jR_p = None\n",
        "\n",
        "                    new_c = x[p]\n",
        "                    new_sigma = None\n",
        "\n",
        "                    # --- this new fuzzy set has no left or right neighbor ---\n",
        "                    if jL_p is None and jR_p is None:\n",
        "                        continue\n",
        "\n",
        "                    # --- there is no left neighbor to this new fuzzy set ---\n",
        "                    if jL_p is None:\n",
        "                        cR_jp = terms[p][jR_p]['center']\n",
        "                        sigma_R_jp = terms[p][jR_p]['sigma']\n",
        "                        left_sigma_R = np.sqrt(-1.0 * (np.power(cR_jp - x[p], 2) / np.log(eps)))\n",
        "                        sigma_R = R(left_sigma_R, sigma_R_jp)\n",
        "\n",
        "                        new_sigma = sigma_R\n",
        "                        # update the existing term to make room for the new term\n",
        "                        terms[p][jR_p]['sigma'] = new_sigma\n",
        "\n",
        "                    # --- there is no right neighbor to this new fuzzy set ---\n",
        "                    elif jR_p is None:\n",
        "                        cL_jp = terms[p][jL_p]['center']\n",
        "                        sigma_L_jp = terms[p][jL_p]['sigma']\n",
        "                        left_sigma_L = np.sqrt(-1.0 * (np.power(cL_jp - x[p], 2) / np.log(eps)))\n",
        "                        sigma_L = R(left_sigma_L, sigma_L_jp)\n",
        "\n",
        "                        new_sigma = sigma_L\n",
        "                        # update the existing term to make room for the new term\n",
        "                        terms[p][jL_p]['sigma'] = new_sigma\n",
        "\n",
        "                    # --- there is BOTH a left and a right neighbor to this fuzzy set ---\n",
        "                    else:\n",
        "                        cR_jp = terms[p][jR_p]['center']\n",
        "                        sigma_R_jp = terms[p][jR_p]['sigma']\n",
        "                        left_sigma_R = np.sqrt(-1.0 * (np.power(cR_jp - x[p], 2) / np.log(eps)))\n",
        "                        sigma_R = R(left_sigma_R, sigma_R_jp)\n",
        "\n",
        "                        cL_jp = terms[p][jL_p]['center']\n",
        "                        sigma_L_jp = terms[p][jL_p]['sigma']\n",
        "                        left_sigma_L = np.sqrt(-1.0 * (np.power(cL_jp - x[p], 2) / np.log(eps)))\n",
        "                        sigma_L = R(left_sigma_L, sigma_L_jp)\n",
        "\n",
        "                        new_sigma = R(sigma_R, sigma_L)\n",
        "                        # update the existing terms to make room for the new term\n",
        "                        terms[p][jR_p]['sigma'] = terms[p][jL_p]['sigma'] = new_sigma\n",
        "                    terms[p].append({'center':new_c, 'sigma':new_sigma, 'support':1})\n",
        "    return terms"
      ],
      "metadata": {
        "id": "sDZTPmgMF4NI"
      },
      "execution_count": null,
      "outputs": []
    },
    {
      "cell_type": "markdown",
      "source": [
        "Evolving Clustering Method is required for fuzzy logic rule generation. Below we define its necessary functions."
      ],
      "metadata": {
        "id": "IywgThzBIJtc"
      }
    },
    {
      "cell_type": "code",
      "source": [
        "SUPPRESS_EXCEPTIONS = True\n",
        "\n",
        "class Cluster:\n",
        "    def __init__(self, center, radius):\n",
        "        self.center = center\n",
        "        self.radius = radius\n",
        "        self.support = 1\n",
        "        \n",
        "    def add_support(self):\n",
        "        self.support += 1\n",
        "        \n",
        "        \n",
        "def general_euclidean_distance(x, y):\n",
        "    if len(x) == len(y): \n",
        "        q = len(x)\n",
        "        return minkowski(x, y, p=2) / np.power(q, 0.5)\n",
        "    else:\n",
        "        raise TypeError('The vectors must of of equal dimensionality in order to use the General Euclidean Distance metric.')\n",
        "\n",
        "\n",
        "def ECM(X, Cs, Dthr, SUPPRESS_EXCEPTIONS=True):\n",
        "    for i, x in enumerate(X):\n",
        "        if len(Cs) == 0:\n",
        "            \"\"\"\n",
        "            Step 0: Create the first cluster by simply taking the\n",
        "            position of the first example from the input stream as the\n",
        "            first cluster center Cc_{1}^{0}, and setting a value 0 for its cluster\n",
        "            radius Ru_{1} [Fig. 2(a)].\n",
        "            \"\"\"\n",
        "            C = Cluster(center=x, radius=0)\n",
        "            Cs.append(C)\n",
        "            \n",
        "        \"\"\"\n",
        "        Step 1: If all examples of the data stream have been processed, the algorithm \n",
        "        is finished. Else, the current input example, $x_i$, is taken and the distances \n",
        "        between this example and all $n$ already created cluster \n",
        "        centers Cc_j, D_{ij} = ||x_{i} - Cc_{j}||, j = 1, 2, ..., n, are calculated.  \n",
        "        \"\"\"\n",
        "        \n",
        "        D_i = {}  # distances between the i'th 'x' and the centers for each j'th cluster; dictionary is indexed by j\n",
        "        for j, C in enumerate(Cs):\n",
        "            D_i[j] = general_euclidean_distance(x, C.center)\n",
        "            \n",
        "            \"\"\"\n",
        "            Step 2: If there is any distance value, D_{ij} = ||x_{i} - Cc_{j}||, equal to, \n",
        "            or less than, at least one of the radii, Ru_{j}, j = 1, 2, ..., n, it means \n",
        "            that the current example belongs to a cluster C_{m} with the minimum distance\n",
        "            \n",
        "            D_{im} = ||x_{i} - Cc_{m}|| = min(||x_{i} - Cc_{j}||)\n",
        "            \n",
        "            subject to the constraint D_{ij} < Ru_{j},   j = 1, 2, ..., n.\n",
        "            \n",
        "            In this case, neither a new cluster is created, nor are any existing clusters \n",
        "            updated (the cases of $x_4$ and $x_6$ in Fig. 2); the algorithm returns to Step 1. \n",
        "            Else—go to the next step.\n",
        "            \"\"\"\n",
        "            if D_i[j] < C.radius:\n",
        "                C.add_support()\n",
        "                break  # the observation belongs to this cluster, C. Return to Step 1.\n",
        "                \n",
        "        if D_i[j] < C.radius:\n",
        "            continue  # the observation belongs to this cluster, C. Return to Step 1.\n",
        "        \n",
        "        \"\"\" \n",
        "        Step 3: Find cluster (with center Cc_{a} and cluster radius Ru_{a}) from all existing cluster \n",
        "        centers through calculating the values S_{ij} = D_{ij} + Ru_{j}, j = 1, 2, ..., n, and then \n",
        "        choosing the cluster center with the minimum value S_{ia}:\n",
        "            \n",
        "            S_{ia} = D_{ia} + Ru_{a} = min(S_{ij}), j = 1, 2, ..., n.\n",
        "        \"\"\"\n",
        "        \n",
        "        S_i = {}\n",
        "        for item in D_i.items():\n",
        "            j = item[0]\n",
        "            D_j = item[1]\n",
        "            C_j = Cs[j]\n",
        "            Ru_j = C_j.radius\n",
        "            S_i[j] = D_j + Ru_j\n",
        "        a = min(S_i, key=S_i.get)\n",
        "        S_ia = S_i[a]\n",
        "        \n",
        "        \"\"\"\n",
        "        Step 4: If S_{ia} is greater than $2 * Dthr$, the example $x_i$ does not belong to any \n",
        "        existing clusters. A new cluster is created in the same way as described in Step 0 \n",
        "        (the cases of $x_3$ and $x_8$ in Fig. 2), and the algorithm returns to Step 1.\n",
        "        \"\"\"\n",
        "        \n",
        "        if S_ia > (2.0 * Dthr):\n",
        "            \"\"\"\n",
        "            Step 0: Create the first cluster by simply taking the\n",
        "            position of the first example from the input stream as the\n",
        "            first cluster center Cc_{1}^{0}, and setting a value 0 for its cluster\n",
        "            radius Ru_{1} [Fig. 2(a)].\n",
        "            \"\"\"\n",
        "            C = Cluster(center=x, radius=0)\n",
        "            Cs.append(C)\n",
        "            continue  # terminate further execution of this iteration\n",
        "        else:\n",
        "            \"\"\"\n",
        "            Step 5: If S_{ia} is not greater than $2 * Dthr$, the cluster $C_{a}$ is updated by moving \n",
        "            its center, Cc_{a}, and increasing the value of its radius, Ru_{a}. The updated \n",
        "            radius Ru_{a}^{new} is set to be equal to S_{ia} / 2 and the new center Cc_{a}^{new} is located\n",
        "            at the point on the line connecting the $x_i$ and Cc_{a}, and the distance from the new \n",
        "            center Cc_{a}^{new} to the point $x_{i}$ is equal to Ru_{a}^{new} \n",
        "            (the cases of $x_2$, $x_5$, $x_7$ and $x_9$ in Fig. 2).\n",
        "            The algorithm returns to Step 1\n",
        "            \"\"\"\n",
        "            Ca = Cs[a]\n",
        "            Ca.radius = S_ia / 2.0\n",
        "            Ca.add_support()            \n",
        "            n = Ca.support\n",
        "            \n",
        "            if n == 0:\n",
        "                m_n_minus_1 = 0\n",
        "            else:\n",
        "                m_n_minus_1 = Ca.center\n",
        "                \n",
        "            # keep a running mean approximation of the cluster center\n",
        "            \n",
        "            Ca.center = ((n - 1) * Ca.center + x) / n\n",
        "            \n",
        "            if not SUPPRESS_EXCEPTIONS and general_euclidean_distance(Ca.center, x) != Ca.radius:\n",
        "                raise Exception('The distance from the center of the relevant cluster is meant to be equal to the cluster\\'s radius.')\n",
        "    return Cs"
      ],
      "metadata": {
        "id": "vrWhe0dvIIOR"
      },
      "execution_count": null,
      "outputs": []
    },
    {
      "cell_type": "markdown",
      "source": [
        "Next, after ECM, is the Wang-Mendel method for fuzzy logic rule generation. It comes with a few extras that go beyond just the Wang-Mendel method as described in the paper because it is a general implementation. Specifically, it includes certainty factor calculations as described in the HyFIS paper. These certainty factors are ignored in our current procedure."
      ],
      "metadata": {
        "id": "dDJgdlKBKIau"
      }
    },
    {
      "cell_type": "code",
      "source": [
        "def rule_creation(X, antecedents, existing_rules=[], existing_weights=[], consistency_check=True):\n",
        "    start = time.time()\n",
        "    rules = existing_rules\n",
        "    weights = existing_weights\n",
        "    for x in X:\n",
        "        CF = 1.0 # certainty factor of this rule\n",
        "        # this block of code is for antecedents\n",
        "        A_star_js = []\n",
        "        for p in range(len(x)):\n",
        "            SM_jps = []\n",
        "            for j, A_jp in enumerate(antecedents[p]):\n",
        "                SM_jp = gaussian(x[p], A_jp['center'], A_jp['sigma'])\n",
        "                SM_jps.append(SM_jp)\n",
        "            CF *= np.max(SM_jps)\n",
        "            j_star_p = np.argmax(SM_jps)\n",
        "            A_star_js.append(j_star_p)\n",
        "\n",
        "        # with some work, you can remove the 'C' key-value here in the rule, it stands for 'consequent(s)'\n",
        "        # however, later on, in the neuro-fuzzy Q-network, it will expect this to be here\n",
        "        R_star = {'A':A_star_js, 'C': [0], 'CF': CF, 'time_added': start}\n",
        "\n",
        "        if not rules:  # no rules in knowledge base yet\n",
        "            rules.append(R_star)\n",
        "            weights.append(1.0)\n",
        "        else:  # there are rules in the knowledge base, so check for uniqueness (i.e., this new rule you made -- R_star -- is it needed?)\n",
        "            add_new_rule = True\n",
        "            for k, rule in enumerate(rules):\n",
        "                try:\n",
        "                    if (rule['A'] == R_star['A']) and (rule['C'] == R_star['C']):\n",
        "                        # the generated rule is not unique, it already exists, enhance this rule's weight\n",
        "                        weights[k] += 1.0\n",
        "                        rule['CF'] = min(rule['CF'], R_star['CF'])\n",
        "                        add_new_rule = False\n",
        "                        break\n",
        "                except ValueError:  # this happens because R_star['A'] and R_star['C'] are Numpy arrays\n",
        "                    if all(rule['A'] == list(R_star['A'])) and all(rule['C'] == list(R_star['C'])):\n",
        "                        # the generated rule is not unique, it already exists, enhance this rule's weight\n",
        "                        weights[k] += 1.0\n",
        "                        rule['CF'] = min(rule['CF'], R_star['CF'])\n",
        "                        add_new_rule = False\n",
        "                        break\n",
        "                    elif all(rule['A'] == list(R_star['A'])):  # my own custom else-if statement\n",
        "                        if rule['CF'] <= R_star['CF']:\n",
        "                            add_new_rule = False\n",
        "            if add_new_rule:\n",
        "                rules.append(R_star)\n",
        "                weights.append(1.0)\n",
        "\n",
        "    # check for consistency\n",
        "    if consistency_check:\n",
        "        all_antecedents = [rule['A'] for rule in rules]\n",
        "    \n",
        "        repeated_rule_indices = set()\n",
        "        for k in range(len(rules)):\n",
        "            indices = np.where(np.all(all_antecedents == np.array(rules[k]['A']), axis=1))[0]\n",
        "            if len(indices) > 1:\n",
        "                if len(repeated_rule_indices) == 0:  # this can be combined with the following elif-statement\n",
        "                    repeated_rule_indices.add(tuple(indices))\n",
        "                elif len(repeated_rule_indices) > 0:  # this can be combined with the above if-statement\n",
        "                    repeated_rule_indices.add(tuple(indices))\n",
        "    \n",
        "        for indices in repeated_rule_indices:\n",
        "            weights_to_compare = [weights[idx] for idx in indices]\n",
        "            strongest_rule_index = indices[np.argmax(weights_to_compare)]  # keep the rule with the greatest weight to it\n",
        "            for index in indices:\n",
        "                if index != strongest_rule_index:\n",
        "                    rules[index] = None\n",
        "                    weights[index] = None\n",
        "        rules = [rules[k] for k, rule in enumerate(rules) if rules[k] is not None]\n",
        "        weights = [weights[k] for k, weight in enumerate(weights) if weights[k] is not None]\n",
        "    \n",
        "        # need to check that no antecedent terms are \"orphaned\" (i.e., they go unused)\n",
        "    \n",
        "        all_antecedents = [rule['A'] for rule in rules]\n",
        "        all_antecedents = np.array(all_antecedents)\n",
        "        for p in range(len(x)):\n",
        "            if len(antecedents[p]) == len(np.unique(all_antecedents[:,p])):\n",
        "                continue\n",
        "            else:\n",
        "                # orphaned antecedent term\n",
        "                indices_for_antecedents_that_are_used = set(all_antecedents[:,p])\n",
        "                updated_indices_to_map_to = list(range(len(indices_for_antecedents_that_are_used)))\n",
        "                antecedents[p] = [antecedents[p][index] for index in indices_for_antecedents_that_are_used]\n",
        "    \n",
        "                paired_indices = list(zip(indices_for_antecedents_that_are_used, updated_indices_to_map_to))\n",
        "                for index_pair in paired_indices:  # the paired indices are sorted w.r.t. the original indices\n",
        "                    original_index = index_pair[0]  # so, when we updated the original index to its new index\n",
        "                    new_index = index_pair[1]  # we are guaranteed not to overwrite the last updated index\n",
        "                    all_antecedents[:,p][all_antecedents[:,p] == original_index] = new_index\n",
        "    \n",
        "        # update the rules in case any orphaned terms occurred\n",
        "        for idx, rule in enumerate(rules):\n",
        "            rule['A'] = all_antecedents[idx]\n",
        "\n",
        "    return antecedents, rules, weights"
      ],
      "metadata": {
        "id": "Y8eJBeXwKETO"
      },
      "execution_count": null,
      "outputs": []
    },
    {
      "cell_type": "markdown",
      "source": [
        "The above three methods are now combined together into a single function called `unsupervised()`."
      ],
      "metadata": {
        "id": "p3wMiwbIM0e7"
      }
    },
    {
      "cell_type": "code",
      "source": [
        "def unsupervised(train_X, ecm=True, Dthr=1e-3, verbose=False):\n",
        "    \"\"\"\n",
        "    Applies CLIP, ECM and Wang-Mendel method to produce the fuzzy sets, candidates and fuzzy logic rules, respectively.\n",
        "\n",
        "    Parameters\n",
        "    ----------\n",
        "    train_X : 2-D Numpy array\n",
        "        The input vector, has a shape of (number of observations, number of inputs/attributes).\n",
        "    ecm : boolean, optional\n",
        "        This boolean controls whether to enable the ECM algorithm for candidate rule generation. The default is True.\n",
        "    Dthr : float, optional\n",
        "        The distance threshold for the ECM algorithm; only matters if ECM is enabled. The default is 1e-3.\n",
        "    verbose : boolean, optional\n",
        "        If enabled (True), the execution of this function will print out step-by-step to show progress. The default is False.\n",
        "\n",
        "    Returns\n",
        "    -------\n",
        "    The fuzzy logic rules, their corresponding weights (unused), and the antecedent terms they are defined over.\n",
        "\n",
        "    \"\"\"\n",
        "    print('The shape of the training data is: (%d, %d)\\n' %\n",
        "          (train_X.shape[0], train_X.shape[1]))\n",
        "    train_X_mins = train_X.min(axis=0)\n",
        "    train_X_maxes = train_X.max(axis=0)\n",
        "\n",
        "    if verbose:\n",
        "        print('Creating/updating the membership functions...')\n",
        "\n",
        "    eps = 0.2\n",
        "    kappa = 0.6\n",
        "\n",
        "    start = time.time()\n",
        "    antecedents = CLIP(train_X, train_X_mins, train_X_maxes,\n",
        "                       [], eps=eps, kappa=kappa)\n",
        "    end = time.time()\n",
        "    if verbose:\n",
        "        print('membership functions for the antecedents generated in %.2f seconds.' % (\n",
        "                end - start))\n",
        "\n",
        "    if ecm:\n",
        "        if verbose:\n",
        "            print('\\nReducing the data observations to clusters using ECM...')\n",
        "        start = time.time()\n",
        "        clusters = ECM(train_X, [], Dthr)\n",
        "        if verbose:\n",
        "            print('%d clusters were found with ECM from %d observations...' % (\n",
        "                len(clusters), train_X.shape[0]))\n",
        "        reduced_X = [cluster.center for cluster in clusters]\n",
        "        end = time.time()\n",
        "        if verbose:\n",
        "            print('done; the ECM algorithm completed in %.2f seconds.' %\n",
        "                  (end - start))\n",
        "    else:\n",
        "        reduced_X = train_X\n",
        "\n",
        "    if verbose:\n",
        "        print('\\nCreating/updating the fuzzy logic rules...')\n",
        "    start = time.time()\n",
        "    antecedents, rules, weights = rule_creation(reduced_X, antecedents, [], [],\n",
        "                                                             consistency_check=False)\n",
        "\n",
        "    K = len(rules)\n",
        "    end = time.time()\n",
        "    if verbose:\n",
        "        print('%d fuzzy logic rules created/updated in %.2f seconds.' %\n",
        "              (K, end - start))\n",
        "    return rules, weights, antecedents"
      ],
      "metadata": {
        "id": "b_cOwFPeM6On"
      },
      "execution_count": null,
      "outputs": []
    },
    {
      "cell_type": "markdown",
      "source": [
        "A Gaussian activation function is then defined where it can have different centers and widths depending on which input variable and input term it is describing. For example, the i'th fuzzy set (across all input dimensions) would be defined by its corresponding i'th center and sigma."
      ],
      "metadata": {
        "id": "c5Y3s8SVN1QV"
      }
    },
    {
      "cell_type": "code",
      "source": [
        "class Gaussian(nn.Module):\n",
        "    \"\"\"\n",
        "    Helpful reference: https://towardsdatascience.com/extending-pytorch-with-custom-activation-functions-2d8b065ef2fa\n",
        "\n",
        "    Implementation of the Gaussian membership function.\n",
        "    Shape:\n",
        "        - Input: (N, *) where * means, any number of additional\n",
        "          dimensions\n",
        "        - Output: (N, *), same shape as the input\n",
        "    Parameters:\n",
        "        - centers: trainable parameter\n",
        "        - sigmas: trainable parameter\n",
        "    Examples:\n",
        "        # >>> a1 = gaussian(256)\n",
        "        # >>> x = torch.randn(256)\n",
        "        # >>> x = a1(x)\n",
        "    \"\"\"\n",
        "\n",
        "    def __init__(self, in_features, centers=None, sigmas=None, trainable=True):\n",
        "        \"\"\"\n",
        "        Initialization.\n",
        "        INPUT:\n",
        "            - in_features: shape of the input\n",
        "            - centers: trainable parameter\n",
        "            - sigmas: trainable parameter\n",
        "            centers and sigmas are initialized randomly by default,\n",
        "            but sigmas must be > 0\n",
        "        \"\"\"\n",
        "        super(Gaussian, self).__init__()\n",
        "        self.in_features = in_features\n",
        "\n",
        "        # initialize centers\n",
        "        if centers is None:\n",
        "            self.centers = Parameter(torch.randn(self.in_features))\n",
        "        else:\n",
        "            self.centers = torch.tensor(centers)\n",
        "\n",
        "        # initialize sigmas\n",
        "        if sigmas is None:\n",
        "            self.sigmas = Parameter(torch.abs(torch.randn(self.in_features)))\n",
        "        else:\n",
        "            # make sure the sigma values are positive\n",
        "            self.sigmas = torch.abs(torch.tensor(sigmas))\n",
        "\n",
        "        self.centers.requires_grad = trainable\n",
        "        self.sigmas.requiresGrad = trainable\n",
        "        self.centers.grad = None\n",
        "        self.sigmas.grad = None\n",
        "\n",
        "    def forward(self, x):\n",
        "        \"\"\"\n",
        "        Forward pass of the function. Applies the function to the input elementwise.\n",
        "        \"\"\"\n",
        "\n",
        "        return torch.exp(-1.0 * (torch.pow(x - self.centers, 2) / torch.pow(self.sigmas, 2)))"
      ],
      "metadata": {
        "id": "iCh_NK5Pstk0"
      },
      "execution_count": null,
      "outputs": []
    },
    {
      "cell_type": "markdown",
      "source": [
        "    The terms 'Fuzzy Logic Controller' and 'Neuro-Fuzzy Network' are used interchangeably in this code."
      ],
      "metadata": {
        "id": "2AfAJjle6IgS"
      }
    },
    {
      "cell_type": "code",
      "source": [
        "class FLC(nn.Module):\n",
        "    \"\"\"\n",
        "    Helpful reference: https://towardsdatascience.com/extending-pytorch-with-custom-activation-functions-2d8b065ef2fa\n",
        "\n",
        "    Implementation of the Fuzzy Logic Controller.\n",
        "    Shape:\n",
        "        - Input: (N, *) where * means, any number of additional\n",
        "          dimensions\n",
        "        - Output: (N, *), same shape as the input\n",
        "    Parameters:\n",
        "        - centers: trainable parameter\n",
        "        - sigmas: trainable parameter\n",
        "    Examples:\n",
        "        # >>> antecedents = [[{'type': 'gaussian', 'parameters': {'center': 1.2, 'sigma': 0.1}},\n",
        "                            {'type': 'gaussian', 'parameters': {'center': 3.0, 'sigma': 0.4}}],\n",
        "                            [{'type': 'gaussian', 'parameters': {'center': 0.2, 'sigma': 0.4}}]]\n",
        "        # consequences are not required, default is None\n",
        "        # >>> consequences = [[{'type': 'gaussian', 'parameters': {'center': 0.1, 'sigma': 0.7}},\n",
        "                            {'type': 'gaussian', 'parameters': {'center': 0.4, 'sigma': 0.41}}],\n",
        "                            [{'type': 'gaussian', 'parameters': {'center': 0.9, 'sigma': 0.32}}]]\n",
        "        # if consequences are not to be specified, leave the key-value out\n",
        "        # >>> rules = [{'antecedents':[0, 0], 'consequences':[0]}, {'antecedents':[1, 0], 'consequences':[1]}]\n",
        "        # >>> n_input = len(antecedents)  # the length of antecedents should be equal to number of inputs\n",
        "        # >>> n_output = len(consequences)  # the length of antecedents should be equal to number of inputs\n",
        "        # >>> flc = FLC(n_input, n_output, antecedents, rules, consequences)\n",
        "        # >>> x = torch.randn(n_input)\n",
        "        # >>> y = flc(x)\n",
        "    \"\"\"\n",
        "\n",
        "    def __init__(self, in_features, out_features, antecedents, rules, consequences=None):\n",
        "        \"\"\"\n",
        "        Initialization.\n",
        "        INPUT:\n",
        "            - in_features: shape of the input\n",
        "            - consequences: (optional) trainable parameter\n",
        "            consequences are initialized randomly by default,\n",
        "            but sigmas must be > 0\n",
        "        \"\"\"\n",
        "        super(FLC, self).__init__()\n",
        "        self.in_features = in_features\n",
        "\n",
        "        # find the number of antecedents per input variable\n",
        "        num_of_antecedents = np.zeros(in_features).astype('int32')\n",
        "        unique_id = 0\n",
        "        gaussians = {'centers': [], 'sigmas': []}  # currently, we assume only Gaussians are used\n",
        "        self.input_variable_ids = []\n",
        "        self.transformed_x_length = 0\n",
        "        for input_variable_idx in range(in_features):\n",
        "            num_of_antecedents[input_variable_idx] = len(antecedents[input_variable_idx])\n",
        "            self.input_variable_ids.append(set())\n",
        "            for term_idx, antecedent in enumerate(antecedents[input_variable_idx]):\n",
        "                try:\n",
        "                    gaussians['centers'].append(antecedent['parameters']['center'])\n",
        "                    gaussians['sigmas'].append(antecedent['parameters']['sigma'])\n",
        "                except KeyError:\n",
        "                    gaussians['centers'].append(antecedent['center'])\n",
        "                    gaussians['sigmas'].append(antecedent['sigma'])\n",
        "                antecedent['id'] = unique_id\n",
        "                self.input_variable_ids[-1].add(unique_id)\n",
        "                unique_id += 1\n",
        "        self.transformed_x_length = unique_id\n",
        "\n",
        "        # find the total number of antecedents across all input variables\n",
        "        n_rules = len(rules)\n",
        "        self.links_between_antecedents_and_rules = np.zeros((num_of_antecedents.sum(), n_rules))\n",
        "\n",
        "        for rule_idx, rule in enumerate(rules):\n",
        "            try:\n",
        "                for input_variable_idx, term_idx in enumerate(rule['antecedents']):\n",
        "                    new_term_idx = antecedents[input_variable_idx][term_idx]['id']\n",
        "                    self.links_between_antecedents_and_rules[new_term_idx, rule_idx] = 1\n",
        "            except KeyError:\n",
        "                for input_variable_idx, term_idx in enumerate(rule['A']):\n",
        "                    new_term_idx = antecedents[input_variable_idx][term_idx]['id']\n",
        "                    self.links_between_antecedents_and_rules[new_term_idx, rule_idx] = 1\n",
        "\n",
        "        # begin creating the model's layers\n",
        "        self.input_terms = Gaussian(in_features=self.in_features, centers=gaussians['centers'],\n",
        "                                    sigmas=gaussians['sigmas'], trainable=False)\n",
        "\n",
        "        # initialize consequences\n",
        "        if consequences is None:\n",
        "            num_of_consequent_terms = len(rules)\n",
        "            self.consequences = Parameter(torch.zeros(num_of_consequent_terms, out_features))\n",
        "        else:\n",
        "            self.consequences = Parameter(torch.tensor(consequences))\n",
        "\n",
        "        self.consequences.requires_grad = True\n",
        "\n",
        "    def __transform(self, X):\n",
        "        \"\"\"\n",
        "        Transforms the given 'X' to make it compatible with the first layer.\n",
        "\n",
        "        The shape of 'X' is (num. of observations, num. of features).\n",
        "        \"\"\"\n",
        "        shape = X.shape\n",
        "        n_observations = shape[0]  # number of observations\n",
        "        new_X = np.zeros((n_observations, self.transformed_x_length))\n",
        "        for input_variable_idx, indices_to_repeat_for in enumerate(self.input_variable_ids):\n",
        "            min_column_idx = min(indices_to_repeat_for)\n",
        "            max_column_idx = max(indices_to_repeat_for) + 1\n",
        "            copies = len(indices_to_repeat_for)  # how many copies we should make of this column\n",
        "            new_X[:, min_column_idx:max_column_idx] = np.repeat(X[:, input_variable_idx], copies).reshape(\n",
        "                (n_observations, copies))\n",
        "        return torch.tensor(new_X)  # the shape of new_X should now be (num. of observations, num. of antecedent terms)\n",
        "\n",
        "    def forward(self, X):\n",
        "        \"\"\"\n",
        "        Forward pass of the function. Applies the function to the input elementwise.\n",
        "\n",
        "        The shape of 'X' is (num. of observations, num. of features).\n",
        "        \"\"\"\n",
        "        # we need to make the given 'X' compatible with our first layer,\n",
        "        # which means repeating it for some entries\n",
        "        antecedents_memberships = self.input_terms(self.__transform(X))\n",
        "        terms_to_rules = antecedents_memberships[:, :, None] * torch.tensor(self.links_between_antecedents_and_rules)\n",
        "        terms_to_rules[terms_to_rules == 0] = 1.0  # ignore zeroes, this is from the weights between terms and rules\n",
        "        # the shape of terms_to_rules is (num of observations, num of ALL terms, num of rules)\n",
        "        rules_applicability = terms_to_rules.prod(dim=1)\n",
        "        numerator = (rules_applicability * self.consequences.T[0]).sum(dim=1)  # MISO\n",
        "        denominator = rules_applicability.sum(dim=1)\n",
        "        denominator[denominator == 0] = 1e-300  # add a minimum rule applicability to avoid division by zero error\n",
        "        return numerator / denominator  # the dim=1 is taking product across ALL terms, now shape (num of observations, num of rules), MISO\n",
        "\n",
        "    def predict(self, X):\n",
        "        \"\"\"\n",
        "        A wrapper function, for calls that prefer the usage of 'predict'.\n",
        "\n",
        "        The shape of 'X' is (num. of observations, num. of features).\n",
        "        \"\"\"\n",
        "        return self.forward(X)"
      ],
      "metadata": {
        "id": "P-u2Lah-rjX0"
      },
      "execution_count": null,
      "outputs": []
    },
    {
      "cell_type": "markdown",
      "source": [
        "The above created FLC class can only handle multi-input-single-output (MISO). In other words, we could only calculate the Q-value of a single possible action. However, to extend this to multiple actions (i.e., multiple-output), we use the well-known fact that a collection of multiple FLCs is commonly used for producing multiple outputs."
      ],
      "metadata": {
        "id": "I11GxfxrJMGT"
      }
    },
    {
      "cell_type": "code",
      "source": [
        "class MultiFLC:\n",
        "    \"\"\"\n",
        "    A multi-input-multi-output (MIMO) Neuro-Fuzzy Network is a collection of\n",
        "    multiple multi-input-single-output (MISO) Neuro-Fuzzy Networks (Klir, 1992).\n",
        "\n",
        "    Essentially, for each possible action, we create a MISO Neuro-Fuzzy Q-Network\n",
        "    to learn that action's Q-values across all the fuzzy logic rules.\n",
        "    \"\"\"\n",
        "    def __init__(self, n_inputs, n_outputs, antecedents, rules, learning_rate=3e-4, cql_alpha=0.5):\n",
        "        \"\"\"\n",
        "        Build the MIMO Neuro-Fuzzy Q-Network with an Adam optimizer for each individual FLC (per action).\n",
        "        \"\"\"\n",
        "        self.flcs = []\n",
        "        self.optimizers = []\n",
        "        self.cql_alpha = cql_alpha\n",
        "        for flc_idx in range(n_outputs):\n",
        "            flc = FLC(n_inputs, 1, antecedents, rules)\n",
        "            self.flcs.append(flc)\n",
        "            # https://stackoverflow.com/questions/42966393/is-it-good-learning-rate-for-adam-method\n",
        "            self.optimizers.append(optim.Adam(flc.parameters(), lr=learning_rate))\n",
        "\n",
        "    def predict(self, X):\n",
        "        \"\"\"\n",
        "        Using all Neuro-Fuzzy networks, output all Q-values using the entire MIMO Neuro-Fuzzy Q-network.\n",
        "\n",
        "        The shape of 'X' is (num. of observations, num. of features).\n",
        "        \"\"\"\n",
        "        output = []\n",
        "        for flc in self.flcs:\n",
        "            output.append(list(flc.predict(X).detach().numpy()))\n",
        "        return torch.tensor(output).T\n",
        "\n",
        "    def train(self, mode):\n",
        "        \"\"\"\n",
        "        Disable training for all Neuro-Fuzzy networks used in this MIMO Neuro-Fuzzy Q-network.\n",
        "        \"\"\"\n",
        "        for flc in self.flcs:\n",
        "            flc.train(mode)\n",
        "\n",
        "    def zero_grad(self):\n",
        "        \"\"\"\n",
        "        Zeroes the gradient for each Neuro-Fuzzy network that creates this MIMO Neuro-Fuzzy Q-network.\n",
        "        \"\"\"\n",
        "        for flc in self.flcs:\n",
        "            flc.zero_grad()\n",
        "\n",
        "    def fcql_loss_function(self, all_q_values, pred_qvalues, target_qvalues, action_indices, flc_idx):\n",
        "        \"\"\"\n",
        "        The Fuzzy Conservative Q-Learning loss function.\n",
        "        To ensure correct implementation, this code is an adaptation of the loss function provided from:\n",
        "\n",
        "        https://colab.research.google.com/drive/1oJOYlAIOl9d1JjlutPY66KmfPkwPCgEE?usp=sharing\n",
        "        \"\"\"\n",
        "        logsumexp_qvalues = torch.logsumexp(all_q_values, dim=-1)\n",
        "\n",
        "        tmp_pred_qvalues = all_q_values.gather(\n",
        "            1, action_indices.reshape(-1, 1)).squeeze()\n",
        "        cql_loss = logsumexp_qvalues - tmp_pred_qvalues\n",
        "\n",
        "        new_targets = target_qvalues[:, flc_idx]\n",
        "        loss = torch.mean((pred_qvalues - new_targets) ** 2)\n",
        "        return loss + self.cql_alpha * torch.mean(cql_loss)\n",
        "\n",
        "    def offline_update(self, states, target_q_values, action_indices):\n",
        "        \"\"\"\n",
        "        Updates each individual FLC's Q-values.\n",
        "        \"\"\"\n",
        "        self.train(True)  # make sure training is enabled\n",
        "        avg_loss = 0.\n",
        "        all_q_values = self.predict(states)\n",
        "        # the loss must be computed for each individual FLC\n",
        "        for flc_idx, flc in enumerate(self.flcs):\n",
        "            # compute the loss and its gradients\n",
        "            q_values = flc.predict(states)  # get the Q-values for this action using its corresponding FLC\n",
        "            loss = self.fcql_loss_function(all_q_values, q_values, target_q_values, action_indices, flc_idx)\n",
        "            loss.backward()\n",
        "\n",
        "            # apply the update\n",
        "            self.optimizers[flc_idx].step()\n",
        "            avg_loss += loss.item()\n",
        "        self.train(False)  # when not training, turn it off\n",
        "        return avg_loss / len(self.flcs)\n",
        "\n",
        "    def compute_loss(self, states, target_q_values, action_indices):\n",
        "        \"\"\"\n",
        "        Only compute the loss, but do not apply an update.\n",
        "        \"\"\"\n",
        "        self.train(False)  # just in case, disable training\n",
        "        avg_loss = 0.\n",
        "        all_q_values = self.predict(states)\n",
        "        for flc_idx, flc in enumerate(self.flcs):\n",
        "            q_values = flc.predict(states)  # get the Q-values for this action using its corresponding FLC\n",
        "            loss = self.fcql_loss_function(all_q_values, q_values, target_q_values, action_indices, flc_idx)\n",
        "            avg_loss += loss.item()\n",
        "        self.train(True)  # activate training\n",
        "        return avg_loss / len(self.flcs)"
      ],
      "metadata": {
        "id": "knh6JXl6utUk"
      },
      "execution_count": null,
      "outputs": []
    },
    {
      "cell_type": "markdown",
      "source": [
        "The following code block comes from the `d3rlpy` library, but it has been modified to return both the average and standard deviation of the online evaluation."
      ],
      "metadata": {
        "id": "p_FIKrfT3Hx_"
      }
    },
    {
      "cell_type": "code",
      "source": [
        "def evaluate_on_environment(env, n_trials=100, epsilon=0.0, render=False):\n",
        "    \"\"\" Returns scorer function of evaluation on environment.\n",
        "\n",
        "    This function returns scorer function, which is suitable to the standard\n",
        "    scikit-learn scorer function style.\n",
        "    The metrics of the scorer function is ideal metrics to evaluate the\n",
        "    resulted policies.\n",
        "\n",
        "    .. code-block:: python\n",
        "\n",
        "        import gym\n",
        "\n",
        "        from d3rlpy.algos import DQN\n",
        "        from d3rlpy.metrics.scorer import evaluate_on_environment\n",
        "\n",
        "\n",
        "        env = gym.make('CartPole-v0')\n",
        "\n",
        "        scorer = evaluate_on_environment(env)\n",
        "\n",
        "        cql = CQL()\n",
        "\n",
        "        mean_episode_return = scorer(cql)\n",
        "\n",
        "\n",
        "    Args:\n",
        "        env (gym.Env): gym-styled environment.\n",
        "        n_trials (int): the number of trials.\n",
        "        epsilon (float): noise factor for epsilon-greedy policy.\n",
        "        render (bool): flag to render environment.\n",
        "\n",
        "    Returns:\n",
        "        callable: scoerer function.\n",
        "\n",
        "\n",
        "    \"\"\"\n",
        "\n",
        "    def scorer(algo, *args):\n",
        "        print('Evaluating online for {} episodes.'.format(n_trials))\n",
        "        episode_rewards = []\n",
        "        for _ in range(n_trials):\n",
        "            observation = env.reset()\n",
        "            episode_reward = 0.0\n",
        "            while True:\n",
        "                if np.random.random() < epsilon:\n",
        "                    action = env.action_space.sample()\n",
        "                else:\n",
        "                    action = torch.argmax(algo.predict(torch.tensor(np.array([observation])))).item()\n",
        "                observation, reward, done, _ = env.step(action)\n",
        "                episode_reward += reward\n",
        "\n",
        "                if render:\n",
        "                    env.render()\n",
        "\n",
        "                if done:\n",
        "                    break\n",
        "            episode_rewards.append(episode_reward)\n",
        "        return np.mean(episode_rewards), np.std(episode_rewards)\n",
        "\n",
        "    return scorer"
      ],
      "metadata": {
        "id": "UBH6-gsVS2Ku"
      },
      "execution_count": null,
      "outputs": []
    },
    {
      "cell_type": "markdown",
      "source": [
        "The following is code for training, which was inspired by a mix of the [PyTorch training tutorial](https://pytorch.org/tutorials/beginner/introyt/trainingyt.html) and the [Offline RL tutorial](https://colab.research.google.com/drive/1oJOYlAIOl9d1JjlutPY66KmfPkwPCgEE?usp=sharing)."
      ],
      "metadata": {
        "id": "NvfPXKNHHrPu"
      }
    },
    {
      "cell_type": "code",
      "source": [
        "def make_target_q_values(model, transition, gamma):\n",
        "    q_values = model.predict(transition['state']).float()\n",
        "    q_values_next = model.predict(transition['next state'])\n",
        "    # to index with action_indices, we need to convert to long data type\n",
        "    action_indices = transition['action'].long()\n",
        "    rewards = transition['reward'].float()\n",
        "    terminals = transition['terminal']\n",
        "    # detach first and then clone is slightly more efficient than clone first and then detach\n",
        "    # https://stackoverflow.com/questions/55266154/pytorch-preferred-way-to-copy-a-tensor\n",
        "    q_values[torch.arange(len(q_values)), action_indices.long()] = rewards.detach().clone()\n",
        "    max_q_values_next, max_q_values_next_indices = torch.max(q_values_next, dim=1)\n",
        "    max_q_values_next *= gamma\n",
        "    q_values[torch.arange(len(q_values)), action_indices] += torch.tensor(\n",
        "        [0.0 if done else float(max_q_values_next[idx]) for idx, done in enumerate(terminals)])\n",
        "    return transition['state'], q_values, action_indices\n",
        "\n",
        "\n",
        "def train_one_epoch(training_loader, model, epoch_index, tb_writer, gamma):\n",
        "    running_loss = 0.\n",
        "    last_loss = 0.\n",
        "\n",
        "    # Here, we use enumerate(training_loader) instead of\n",
        "    # iter(training_loader) so that we can track the batch\n",
        "    # index and do some intra-epoch reporting\n",
        "    for i, transition in enumerate(training_loader):\n",
        "        # Every transition is {'state', 'action', 'reward', 'next state', 'terminal'}\n",
        "\n",
        "        # Zero your gradients for every batch!\n",
        "        model.zero_grad()\n",
        "\n",
        "        states, target_q_values, action_indices = make_target_q_values(model, transition, gamma)\n",
        "\n",
        "        loss = model.offline_update(transition['state'], target_q_values, action_indices)\n",
        "\n",
        "        # Gather data and report\n",
        "        running_loss += loss\n",
        "        if i % 10 == 0:\n",
        "            last_loss = running_loss / 10  # loss per batch\n",
        "            # print('  batch {} loss: {}'.format(i + 1, last_loss))\n",
        "            tb_x = epoch_index * len(training_loader) + i + 1\n",
        "            tb_writer.add_scalar('Loss/train', last_loss, tb_x)\n",
        "            running_loss = 0.\n",
        "\n",
        "    return last_loss\n",
        "\n",
        "\n",
        "def offline_q_learning(model, training_dataset, validation_dataset, max_epochs=100, batch_size=64, gamma=0.9):\n",
        "    train_loader = DataLoader(training_dataset, batch_size=batch_size, shuffle=True, num_workers=2)\n",
        "    val_loader = DataLoader(validation_dataset, batch_size=batch_size, shuffle=False, num_workers=2)\n",
        "\n",
        "    # Initializing in a separate cell so we can easily add more epochs to the same run\n",
        "    timestamp = datetime.now().strftime('%Y%m%d_%H%M%S')\n",
        "    writer = SummaryWriter('runs/fashion_trainer_{}'.format(timestamp))\n",
        "    epoch_number = 0\n",
        "\n",
        "    best_vloss = 1_000_000.\n",
        "\n",
        "    for epoch in range(max_epochs):\n",
        "        print('EPOCH {}:'.format(epoch_number + 1))\n",
        "\n",
        "        # Make sure gradient tracking is on, and do a pass over the data\n",
        "        model.train(True)\n",
        "        avg_loss = train_one_epoch(train_loader, model, epoch_number, writer, gamma)\n",
        "\n",
        "        # We don't need gradients on to do reporting\n",
        "        model.train(False)\n",
        "\n",
        "        running_vloss = 0.0\n",
        "        for i, validation_transition in enumerate(val_loader):\n",
        "            _, target_q_values, action_indices = make_target_q_values(model, validation_transition, gamma)\n",
        "            vloss = model.compute_loss(validation_transition['state'], target_q_values, action_indices)\n",
        "            running_vloss += vloss\n",
        "\n",
        "        avg_vloss = running_vloss / (i + 1)\n",
        "        print('LOSS train {} valid {}'.format(avg_loss, avg_vloss))\n",
        "\n",
        "        # Log the running loss averaged per batch\n",
        "        # for both training and validation\n",
        "        writer.add_scalars('Training vs. Validation Loss',\n",
        "                           {'Training': avg_loss, 'Validation': avg_vloss},\n",
        "                           epoch_number + 1)\n",
        "        writer.flush()\n",
        "\n",
        "        # Track best performance, and save the model's state\n",
        "        if avg_vloss < best_vloss:\n",
        "            best_vloss = avg_vloss\n",
        "            # model_path = 'model_{}_{}'.format(timestamp, epoch_number)\n",
        "            # torch.save(model.state_dict(), model_path)\n",
        "\n",
        "        epoch_number += 1\n",
        "    return model, [avg_loss], [avg_vloss]\n"
      ],
      "metadata": {
        "id": "llQn6AFkS9DH"
      },
      "execution_count": null,
      "outputs": []
    },
    {
      "cell_type": "markdown",
      "source": [
        "Create a class that will assist in quickly loading the data for offline training."
      ],
      "metadata": {
        "id": "rqz70rDC-_ZG"
      }
    },
    {
      "cell_type": "code",
      "source": [
        "class CartPoleDataset(Dataset):\n",
        "    \"\"\" \n",
        "    Offline reinforcement learning dataset of Cart Pole\n",
        "    https://pytorch.org/tutorials/beginner/data_loading_tutorial.html#afterword-torchvision\n",
        "    \"\"\"\n",
        "\n",
        "    def __init__(self, data):\n",
        "        self.dataset = data\n",
        "        self.transitions, self.unique_states = self.transform_data()\n",
        "\n",
        "    def __len__(self):\n",
        "        return len(self.transitions)\n",
        "\n",
        "    def __getitem__(self, idx):\n",
        "        return self.transitions[idx]\n",
        "\n",
        "    def transform_data(self):\n",
        "        states = []\n",
        "        transitions = []\n",
        "        for episode in self.dataset:\n",
        "            for transition in episode.transitions:\n",
        "                done = transition.terminal == 1.0\n",
        "                states.append(list(transition.observation))\n",
        "                value = {'state': transition.observation, 'action': transition.action, 'reward': transition.reward,\n",
        "                         'next state': transition.next_observation, 'terminal': done}\n",
        "                transitions.append(value)\n",
        "        return transitions, np.array(states)"
      ],
      "metadata": {
        "id": "dlF3umhh-9-6"
      },
      "execution_count": null,
      "outputs": []
    },
    {
      "cell_type": "markdown",
      "source": [
        "You can set the seed for reproducibility, define the number of maximum epochs to allow the agent to train, batch size, etc."
      ],
      "metadata": {
        "id": "0SbZRFlLCj3w"
      }
    },
    {
      "cell_type": "markdown",
      "source": [
        "The antecedents or the fuzzy logic rules produced by the `unsupervised` function may change due to randomness (there may be more or less, they may behave differently, etc.). \n",
        "\n",
        "Note: You may need to do a fresh reinstantiation of the random number generators, environment, and so forth."
      ],
      "metadata": {
        "id": "FhXHKHhsArvT"
      }
    },
    {
      "cell_type": "code",
      "source": [
        "SEED = 39  # used in the 'human-in-the-loop' example\n",
        "MAX_EPOCHS = 20  # the maximum allowed number of epochs allowed for offline training\n",
        "BATCH_SIZE = 64  # the number of training observations to sample from the data to perform a single update\n",
        "CQL_ALPHA = 0.5  # the weight given to the CQL adjustment, a lower value is better when more data is available and vice versa\n",
        "LEARNING_RATE = 1e-3  # the learning rate used in the paper, later, a better learning rate was found which was 3e-4\n",
        "NUM_OF_TRAIN_EPISODES = 60  # the amount of training episodes that should be retrieved from CartPoleDataset to do offline training"
      ],
      "metadata": {
        "id": "GLIuzvIx_IUO"
      },
      "execution_count": null,
      "outputs": []
    },
    {
      "cell_type": "markdown",
      "source": [
        "Add reproducibility by setting the environment seed."
      ],
      "metadata": {
        "id": "e3p-E_uZABII"
      }
    },
    {
      "cell_type": "code",
      "source": [
        "print('Using seed {}'.format(SEED))\n",
        "os.environ['PYTHONHASHSEED'] = str(SEED)\n",
        "torch.manual_seed(SEED)\n",
        "random.seed(SEED)\n",
        "np.random.seed(SEED)\n",
        "env = gym.make('CartPole-v1')\n",
        "env.seed(SEED)\n",
        "env.action_space.seed(SEED)"
      ],
      "metadata": {
        "colab": {
          "base_uri": "https://localhost:8080/"
        },
        "id": "ppwG7PFoAFg3",
        "outputId": "3f6ce6cc-e53f-45a3-a4cd-8a9309f3dce9"
      },
      "execution_count": null,
      "outputs": [
        {
          "output_type": "stream",
          "name": "stdout",
          "text": [
            "Using seed 39\n"
          ]
        },
        {
          "output_type": "stream",
          "name": "stderr",
          "text": [
            "/usr/local/lib/python3.7/dist-packages/gym/core.py:318: DeprecationWarning: \u001b[33mWARN: Initializing wrapper in old step API which returns one bool instead of two. It is recommended to set `new_step_api=True` to use new step API. This will be the default behaviour in future.\u001b[0m\n",
            "  \"Initializing wrapper in old step API which returns one bool instead of two. It is recommended to set `new_step_api=True` to use new step API. This will be the default behaviour in future.\"\n",
            "/usr/local/lib/python3.7/dist-packages/gym/wrappers/step_api_compatibility.py:40: DeprecationWarning: \u001b[33mWARN: Initializing environment in old step API which returns one bool instead of two. It is recommended to set `new_step_api=True` to use new step API. This will be the default behaviour in future.\u001b[0m\n",
            "  \"Initializing environment in old step API which returns one bool instead of two. It is recommended to set `new_step_api=True` to use new step API. This will be the default behaviour in future.\"\n",
            "/usr/local/lib/python3.7/dist-packages/gym/core.py:257: DeprecationWarning: \u001b[33mWARN: Function `env.seed(seed)` is marked as deprecated and will be removed in the future. Please use `env.reset(seed=seed)` instead.\u001b[0m\n",
            "  \"Function `env.seed(seed)` is marked as deprecated and will be removed in the future. \"\n"
          ]
        },
        {
          "output_type": "execute_result",
          "data": {
            "text/plain": [
              "[39]"
            ]
          },
          "metadata": {},
          "execution_count": 17
        }
      ]
    },
    {
      "cell_type": "code",
      "source": [
        "# Number of states\n",
        "n_state = env.observation_space.shape[0]\n",
        "# Number of actions\n",
        "n_action = env.action_space.n"
      ],
      "metadata": {
        "id": "CbRZ-gMjAOCf"
      },
      "execution_count": null,
      "outputs": []
    },
    {
      "cell_type": "markdown",
      "source": [
        "Apply Fuzzy Conservative Q-Learning algorithm to learn the Q-values."
      ],
      "metadata": {
        "id": "Vi4a6H1GX5YV"
      }
    },
    {
      "cell_type": "code",
      "execution_count": null,
      "metadata": {
        "colab": {
          "base_uri": "https://localhost:8080/"
        },
        "id": "oQNIB65YFO3D",
        "outputId": "372639d2-369c-4e46-84a8-aaa484d6ebbc"
      },
      "outputs": [
        {
          "output_type": "stream",
          "name": "stdout",
          "text": [
            "Downloading cartpole.pkl into d3rlpy_data/cartpole_replay_v1.1.0.h5...\n"
          ]
        },
        {
          "output_type": "stream",
          "name": "stderr",
          "text": [
            "/usr/local/lib/python3.7/dist-packages/h5py/_hl/dataset.py:767: DeprecationWarning: Passing None into shape arguments as an alias for () is deprecated.\n",
            "  arr = numpy.ndarray(selection.mshape, dtype=new_dtype)\n",
            "/usr/local/lib/python3.7/dist-packages/gym/envs/registration.py:594: UserWarning: \u001b[33mWARN: The environment CartPole-v0 is out of date. You should consider upgrading to version `v1`.\u001b[0m\n",
            "  f\"The environment {id} is out of date. You should consider \"\n"
          ]
        },
        {
          "output_type": "stream",
          "name": "stdout",
          "text": [
            "num of training episodes available: 60\n",
            "The shape of the training data is: (3536, 4)\n",
            "\n",
            "There are 22 rules\n",
            "There are 4 antecedent terms for the 1'th input variable.\n",
            "There are 4 antecedent terms for the 2'th input variable.\n",
            "There are 4 antecedent terms for the 3'th input variable.\n",
            "There are 5 antecedent terms for the 4'th input variable.\n",
            "EPOCH 1:\n",
            "LOSS train 0.8459863810228775 valid 0.8455386044010067\n",
            "EPOCH 2:\n",
            "LOSS train 0.8455134077545706 valid 0.8444381541186788\n",
            "EPOCH 3:\n",
            "LOSS train 0.8439760767818228 valid 0.8433591693892548\n",
            "EPOCH 4:\n",
            "LOSS train 0.8426168971756172 valid 0.8422801936130441\n",
            "EPOCH 5:\n",
            "LOSS train 0.8429263288405615 valid 0.8414591213376138\n",
            "EPOCH 6:\n",
            "LOSS train 0.8394748415749449 valid 0.8403879644666077\n",
            "EPOCH 7:\n",
            "LOSS train 0.8375696922618833 valid 0.8395718607738779\n",
            "EPOCH 8:\n",
            "LOSS train 0.8419149581214616 valid 0.83869576582834\n",
            "EPOCH 9:\n",
            "LOSS train 0.8393666981754654 valid 0.8378751801329283\n",
            "EPOCH 10:\n",
            "LOSS train 0.8371126085198247 valid 0.8371777585846968\n",
            "EPOCH 11:\n",
            "LOSS train 0.8363335918220492 valid 0.8363386666141988\n",
            "EPOCH 12:\n",
            "LOSS train 0.8364813487642226 valid 0.8356630226119837\n",
            "EPOCH 13:\n",
            "LOSS train 0.8337309517070862 valid 0.8348342088099839\n",
            "EPOCH 14:\n",
            "LOSS train 0.833726175213633 valid 0.8342328882185348\n",
            "EPOCH 15:\n",
            "LOSS train 0.8326637815107762 valid 0.8336752857740453\n",
            "EPOCH 16:\n",
            "LOSS train 0.8336888232400824 valid 0.833168931334979\n",
            "EPOCH 17:\n",
            "LOSS train 0.8336505911534807 valid 0.8326890081575176\n",
            "EPOCH 18:\n",
            "LOSS train 0.8340599528932355 valid 0.8320779275441259\n",
            "EPOCH 19:\n",
            "LOSS train 0.8342185269600778 valid 0.8319341473548397\n",
            "EPOCH 20:\n",
            "LOSS train 0.8309554738167491 valid 0.8315818726480225\n"
          ]
        }
      ],
      "source": [
        "dataset, _ = get_cartpole()\n",
        "dataset = dataset[:1000]\n",
        "print('num of training episodes available: {}'.format(NUM_OF_TRAIN_EPISODES))\n",
        "# split train and test episodes\n",
        "train_episodes, val_episodes = train_test_split(dataset, test_size=0.2)\n",
        "train_episodes = train_episodes[:NUM_OF_TRAIN_EPISODES]\n",
        "\n",
        "train_data = CartPoleDataset(train_episodes)\n",
        "val_data = CartPoleDataset(val_episodes)\n",
        "\n",
        "# get replay results\n",
        "rules, _, antecedents = unsupervised(train_data.unique_states, ecm=True, Dthr=4e-1)\n",
        "\n",
        "print('There are {} rules'.format(len(rules)))\n",
        "\n",
        "for input_idx, input_variable in enumerate(antecedents):\n",
        "    print('There are {} antecedent terms for the {}\\'th input variable.'.format(len(input_variable), input_idx + 1))\n",
        "\n",
        "n_outputs = 2\n",
        "flc = MultiFLC(len(antecedents), n_outputs, antecedents, rules, learning_rate=LEARNING_RATE, cql_alpha=CQL_ALPHA)\n",
        "\n",
        "flc, train_epoch_losses, val_epoch_losses = offline_q_learning(flc, train_data,\n",
        "                                                                val_data, MAX_EPOCHS,\n",
        "                                                                BATCH_SIZE,\n",
        "                                                                gamma=0.99)"
      ]
    },
    {
      "cell_type": "markdown",
      "source": [
        "The code to record the performance of the agent is from the [offline RL tutorial](https://colab.research.google.com/github/takuseno/d3rlpy/blob/master/tutorials/cartpole.ipynb#scrollTo=QcVCS0_VaqHr)."
      ],
      "metadata": {
        "id": "G6GsuCDcUJCr"
      }
    },
    {
      "cell_type": "code",
      "source": [
        "import io\n",
        "import glob\n",
        "import base64\n",
        "\n",
        "from IPython.display import HTML\n",
        "from gym.wrappers import Monitor\n",
        "from pyvirtualdisplay import Display\n",
        "from IPython import display as ipythondisplay\n",
        "\n",
        "# start virtual display\n",
        "display = Display(visible=0, size=(1400, 900))\n",
        "display.start()\n",
        "\n",
        "# play recorded video\n",
        "def show_video():\n",
        "    mp4list = glob.glob('video/*.mp4')\n",
        "    if len(mp4list) > 0:\n",
        "        mp4 = mp4list[0]\n",
        "        video = io.open(mp4, 'r+b').read()\n",
        "        encoded = base64.b64encode(video)\n",
        "        ipythondisplay.display(HTML(data='''\n",
        "            <video alt=\"test\" autoplay loop controls style=\"height: 400px;\">\n",
        "                <source src=\"data:video/mp4;base64,{0}\" type=\"video/mp4\" />\n",
        "            </video>'''.format(encoded.decode('ascii'))))\n",
        "    else: \n",
        "        print(\"Could not find video\")"
      ],
      "metadata": {
        "id": "1tu0fX5XV9V3",
        "colab": {
          "base_uri": "https://localhost:8080/",
          "height": 373
        },
        "outputId": "0a0e8a90-0dc3-42ad-83ed-9ad09a9918b0"
      },
      "execution_count": null,
      "outputs": [
        {
          "output_type": "error",
          "ename": "ImportError",
          "evalue": "ignored",
          "traceback": [
            "\u001b[0;31m---------------------------------------------------------------------------\u001b[0m",
            "\u001b[0;31mImportError\u001b[0m                               Traceback (most recent call last)",
            "\u001b[0;32m<ipython-input-20-203a79923d02>\u001b[0m in \u001b[0;36m<module>\u001b[0;34m\u001b[0m\n\u001b[1;32m      4\u001b[0m \u001b[0;34m\u001b[0m\u001b[0m\n\u001b[1;32m      5\u001b[0m \u001b[0;32mfrom\u001b[0m \u001b[0mIPython\u001b[0m\u001b[0;34m.\u001b[0m\u001b[0mdisplay\u001b[0m \u001b[0;32mimport\u001b[0m \u001b[0mHTML\u001b[0m\u001b[0;34m\u001b[0m\u001b[0;34m\u001b[0m\u001b[0m\n\u001b[0;32m----> 6\u001b[0;31m \u001b[0;32mfrom\u001b[0m \u001b[0mgym\u001b[0m\u001b[0;34m.\u001b[0m\u001b[0mwrappers\u001b[0m \u001b[0;32mimport\u001b[0m \u001b[0mMonitor\u001b[0m\u001b[0;34m\u001b[0m\u001b[0;34m\u001b[0m\u001b[0m\n\u001b[0m\u001b[1;32m      7\u001b[0m \u001b[0;32mfrom\u001b[0m \u001b[0mpyvirtualdisplay\u001b[0m \u001b[0;32mimport\u001b[0m \u001b[0mDisplay\u001b[0m\u001b[0;34m\u001b[0m\u001b[0;34m\u001b[0m\u001b[0m\n\u001b[1;32m      8\u001b[0m \u001b[0;32mfrom\u001b[0m \u001b[0mIPython\u001b[0m \u001b[0;32mimport\u001b[0m \u001b[0mdisplay\u001b[0m \u001b[0;32mas\u001b[0m \u001b[0mipythondisplay\u001b[0m\u001b[0;34m\u001b[0m\u001b[0;34m\u001b[0m\u001b[0m\n",
            "\u001b[0;31mImportError\u001b[0m: cannot import name 'Monitor' from 'gym.wrappers' (/usr/local/lib/python3.7/dist-packages/gym/wrappers/__init__.py)",
            "",
            "\u001b[0;31m---------------------------------------------------------------------------\u001b[0;32m\nNOTE: If your import is failing due to a missing package, you can\nmanually install dependencies using either !pip or !apt.\n\nTo view examples of installing some common dependencies, click the\n\"Open Examples\" button below.\n\u001b[0;31m---------------------------------------------------------------------------\u001b[0m\n"
          ],
          "errorDetails": {
            "actions": [
              {
                "action": "open_url",
                "actionText": "Open Examples",
                "url": "/notebooks/snippets/importing_libraries.ipynb"
              }
            ]
          }
        }
      ]
    },
    {
      "cell_type": "markdown",
      "source": [
        "Test your agent online! (this may take awhile if your agent is performing well)"
      ],
      "metadata": {
        "id": "PbEqz8MWX_ZY"
      }
    },
    {
      "cell_type": "code",
      "source": [
        "# wrap Monitor wrapper\n",
        "# env = Monitor(env, './video', force=True)\n",
        "\n",
        "# evaluate\n",
        "avg_score, std_score = evaluate_on_environment(env)(flc)\n",
        "print((avg_score, std_score))"
      ],
      "metadata": {
        "colab": {
          "base_uri": "https://localhost:8080/"
        },
        "id": "4uG0f68GG1jB",
        "outputId": "f3517d25-1299-4c5e-e253-95aa6eadc012"
      },
      "execution_count": null,
      "outputs": [
        {
          "output_type": "stream",
          "name": "stdout",
          "text": [
            "Evaluating online for 100 episodes.\n",
            "(500.0, 0.0)\n"
          ]
        }
      ]
    },
    {
      "cell_type": "markdown",
      "source": [
        "Watch a video of how it did!"
      ],
      "metadata": {
        "id": "CoDJQ_RvYU-k"
      }
    },
    {
      "cell_type": "code",
      "source": [
        "show_video()"
      ],
      "metadata": {
        "id": "lBHP02XvWO1w"
      },
      "execution_count": null,
      "outputs": []
    }
  ]
}